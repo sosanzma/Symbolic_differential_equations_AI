{
  "nbformat": 4,
  "nbformat_minor": 0,
  "metadata": {
    "colab": {
      "name": "EDO1_Manel.ipynb",
      "provenance": [],
      "collapsed_sections": [],
      "authorship_tag": "ABX9TyP2tHnZaBlQdWIJphBo0DF5",
      "include_colab_link": true
    },
    "kernelspec": {
      "name": "python3",
      "display_name": "Python 3"
    },
    "accelerator": "GPU"
  },
  "cells": [
    {
      "cell_type": "markdown",
      "metadata": {
        "id": "view-in-github",
        "colab_type": "text"
      },
      "source": [
        "<a href=\"https://colab.research.google.com/github/sosanzma/Manel/blob/master/EDO1_Manel.ipynb\" target=\"_parent\"><img src=\"https://colab.research.google.com/assets/colab-badge.svg\" alt=\"Open In Colab\"/></a>"
      ]
    },
    {
      "cell_type": "code",
      "metadata": {
        "colab": {
          "base_uri": "https://localhost:8080/"
        },
        "id": "RwHMz3WdN_wJ",
        "outputId": "60f1b424-0f57-415c-9a5d-89cd8b769fdf"
      },
      "source": [
        "  !git clone https://github.com/facebookresearch/SymbolicMathematics\n",
        "import os\n",
        "os.chdir('SymbolicMathematics/')\n",
        "!ls\n"
      ],
      "execution_count": null,
      "outputs": [
        {
          "output_type": "stream",
          "text": [
            "fatal: destination path 'SymbolicMathematics' already exists and is not an empty directory.\n",
            "beam_integration.ipynb\tCONTRIBUTING.md  main.py   README.md\t  src\n",
            "CODE_OF_CONDUCT.md\tLICENSE\t\t ode1.pth  split_data.py\n"
          ],
          "name": "stdout"
        }
      ]
    },
    {
      "cell_type": "code",
      "metadata": {
        "id": "YITxUtcUOCpH"
      },
      "source": [
        "import numpy as np\n",
        "import sympy as sp\n",
        "import torch\n",
        "\n",
        "from src.utils import AttrDict\n",
        "from src.envs import build_env\n",
        "from src.model import build_modules\n",
        "\n",
        "from src.utils import to_cuda\n",
        "from src.envs.sympy_utils import simplify\n",
        "from sympy import sympify\n",
        "from sympy import checkodesol"
      ],
      "execution_count": null,
      "outputs": []
    },
    {
      "cell_type": "code",
      "metadata": {
        "colab": {
          "base_uri": "https://localhost:8080/"
        },
        "id": "PObJQ2xhOE6z",
        "outputId": "f210b6b1-8ca8-4870-d77b-bd2d5cc9b146"
      },
      "source": [
        "!wget https://dl.fbaipublicfiles.com/SymbolicMathematics/models/ode1.pth\n",
        "model_path = './ode1.pth'\n",
        "assert os.path.isfile(model_path)"
      ],
      "execution_count": null,
      "outputs": [
        {
          "output_type": "stream",
          "text": [
            "--2021-04-06 09:01:27--  https://dl.fbaipublicfiles.com/SymbolicMathematics/models/ode1.pth\n",
            "Resolving dl.fbaipublicfiles.com (dl.fbaipublicfiles.com)... 104.22.75.142, 172.67.9.4, 104.22.74.142, ...\n",
            "Connecting to dl.fbaipublicfiles.com (dl.fbaipublicfiles.com)|104.22.75.142|:443... connected.\n",
            "HTTP request sent, awaiting response... 200 OK\n",
            "Length: 1849505529 (1.7G) [application/octet-stream]\n",
            "Saving to: ‘ode1.pth.1’\n",
            "\n",
            "ode1.pth.1          100%[===================>]   1.72G  12.6MB/s    in 2m 21s  \n",
            "\n",
            "2021-04-06 09:03:49 (12.5 MB/s) - ‘ode1.pth.1’ saved [1849505529/1849505529]\n",
            "\n"
          ],
          "name": "stdout"
        }
      ]
    },
    {
      "cell_type": "code",
      "metadata": {
        "id": "6lL2Xgf4OVp2"
      },
      "source": [
        "params = params = AttrDict({\n",
        "\n",
        "    # environment parameters\n",
        "    'env_name': 'char_sp',\n",
        "    'int_base': 10,\n",
        "    'balanced': False,\n",
        "    'positive': True,\n",
        "    'precision': 10,\n",
        "    'n_variables': 2,\n",
        "    'n_coefficients': 0,\n",
        "    'leaf_probs': '0.75,0,0.25,0',\n",
        "    'max_len': 512,\n",
        "    'max_int': 5,\n",
        "    'max_ops': 15,\n",
        "    'max_ops_G': 15,\n",
        "    'clean_prefix_expr': True,\n",
        "    'rewrite_functions': '',\n",
        "    'tasks': 'ode1',\n",
        "    'operators': 'add:10,sub:3,mul:10,div:5,sqrt:4,pow2:4,pow3:2,pow4:1,pow5:1,ln:4,exp:4,sin:4,cos:4,tan:4,asin:1,acos:1,atan:1,sinh:1,cosh:1,tanh:1,asinh:1,acosh:1,atanh:1',\n",
        "\n",
        "    # model parameters\n",
        "    'cpu': False,\n",
        "    'emb_dim': 1024,\n",
        "    'n_enc_layers': 6,\n",
        "    'n_dec_layers': 6,\n",
        "    'n_heads': 8,\n",
        "    'dropout': 0,\n",
        "    'attention_dropout': 0,\n",
        "    'sinusoidal_embeddings': False,\n",
        "    'share_inout_emb': True,\n",
        "    'reload_model': model_path,\n",
        "\n",
        "})\n"
      ],
      "execution_count": null,
      "outputs": []
    },
    {
      "cell_type": "code",
      "metadata": {
        "id": "uXpW9IqsOc2h"
      },
      "source": [
        "env = build_env(params)      # Estamos definiendo el entorno con el que vamos a trabajar, le metemos los parametros que queramos\n",
        "x = env.local_dict['x']\n",
        "y = env.local_dict['y']     ## crec que es refereix a la \"variable d'estudi\""
      ],
      "execution_count": null,
      "outputs": []
    },
    {
      "cell_type": "code",
      "metadata": {
        "id": "6NOSeIVlOdVo"
      },
      "source": [
        "modules = build_modules(env, params)  \n",
        "encoder = modules['encoder']   # creamos el encoder a partir del entrono y los parametros\n",
        "decoder = modules['decoder']    # creamos el decoder        \"        \""
      ],
      "execution_count": null,
      "outputs": []
    },
    {
      "cell_type": "code",
      "metadata": {
        "id": "zm1C8W3dQiht"
      },
      "source": [
        "# here you can modify the the  solution to the equation that the model has to predict\n",
        "#F_infix = 'sin(x) + a8*cos(x)'"
      ],
      "execution_count": null,
      "outputs": []
    },
    {
      "cell_type": "code",
      "metadata": {
        "id": "CYX8nvUeT1ta"
      },
      "source": [
        "# F (la supuesta solucion a la EDO que definamos como input)\n",
        "#F = sp.S(F_infix, locals=env.local_dict)   \n",
        "#F        \n",
        "\n",
        "# no necessitem estes funcions"
      ],
      "execution_count": null,
      "outputs": []
    },
    {
      "cell_type": "markdown",
      "metadata": {
        "id": "O2xRxNeDrQNE"
      },
      "source": [
        "Si queremos resolver una EDO del tipo y' + y = g(x) , el input tiene que ser de la forma : y' + y - g(x) \n",
        "\n",
        "La notació que se utiliza para la viariable diferenciada en función de x (en el ejemplo es : 'y' )  : f(x) \n",
        "\n",
        "Y la derivada se escribe de la forma : f'(x) --> diff(f(x), x)\n"
      ]
    },
    {
      "cell_type": "code",
      "metadata": {
        "id": "MFaRfDWYT4Im",
        "colab": {
          "base_uri": "https://localhost:8080/",
          "height": 53
        },
        "outputId": "22b1d841-be61-4973-d8ec-8b3ff55a89ce"
      },
      "source": [
        "# f (F', that the model will take as input, edo a calcular)\n",
        "f1 = 'cos(x)*diff(f(x),x) + sin(x)*f(x)-1 '     # equació de prova, dona bons resultats\n",
        "\n",
        "f2 = 'diff(f(x),x) - 2*f(x) - 2*exp(2*sin(x))*(cos(x)-1)'   # esta dona bons resultats en la comprovació\n",
        "f3 = 'diff(f(x),x)*x^2 + x*f(x) + sqrt(f(x))'   # el primer resultat es correcte, pero a l'hora de la comprovació no dona\n",
        "f4 = 'diff((f(x))^2,x) + 2*(f(x))^2/x - 2*f(x)/(cos(x)^2)' #esta es complica a l'hora de comprovar-ho. No sé si dona bons results (massa complicada?)\n",
        "f5= 'x^2*(diff(f(x),x)+ f(x)^2) + x*f(x) -1'     # esta dona bé també\n",
        "f6 = 'diff(f(x),x) + 2*f(x)/x - (2*f(x))/(cos(x)^2)'  # esta és igual que la 4 però sense l'arrel. Trau resultat correcte i molt ràpidamaent. (problema en l'arrel al comprovar)\n",
        "f7='diff(f(x),x)*(x- 2*f(x))+ 2*x + f(x)'  # no dona bé el resultat per un signe\n",
        "f8='x*diff(f(x),x) - x^2*f(x)- exp(x^2/2)' # dona bé\n",
        "f9= 'diff(f(x),x) - a0*f(x)+f(x)^3'   # si la constant que fique en f(x) es 1 apareix un error\n",
        "f10= 'diff(f(x),x)*f(x)+ 1'  # esta ecuació és tan senzilla que deuria de ser capaç de resordre-la --> problemes en funcions en el denominador\n",
        "f11='diff(f(x),x) - f(x)/x - tan(f(x)/x)' # dona un error de compilació\n",
        "f12='diff(f(x),x) + 1/(2*f(x)*x)*(f(x)^2 + 2/x)' # no dona ( altra vegada te la funció en el denominador)\n",
        "f13='diff(f(x),x)*x + f(x) - 2*x^4*f(x)^4' # tampoc dona, però en la 15 l'hem redefinifit i ja dona bé. Apareix algun error a l'hora de resoldre-la aixina\n",
        "f14='diff(f(x),x) - (2*x -5*f(x)+3)/(2*x +4*f(x)-6)'\n",
        "f15='diff(f(x),x)-6*x^3 - 3*f(x)/x'\n",
        "\n",
        "\n",
        "f=f15\n",
        "f = sp.S(f, locals=env.local_dict)\n",
        "f           # el input que vamos a meterle al modelo para que calcule la solucion"
      ],
      "execution_count": null,
      "outputs": [
        {
          "output_type": "execute_result",
          "data": {
            "text/latex": "$\\displaystyle - 6 x^{3} + \\frac{d}{d x} f{\\left(x \\right)} - \\frac{3 f{\\left(x \\right)}}{x}$",
            "text/plain": [
              "-6*x**3 + Derivative(f(x), x) - 3*f(x)/x"
            ]
          },
          "metadata": {
            "tags": []
          },
          "execution_count": 17
        }
      ]
    },
    {
      "cell_type": "code",
      "metadata": {
        "colab": {
          "base_uri": "https://localhost:8080/",
          "height": 479
        },
        "id": "Au10shqGC0WG",
        "outputId": "16787aa1-ae9b-49dd-f4d0-7f8f5729861b"
      },
      "source": [
        "display('Ecuaciones diferenciales de primer orden que he testeado:')\n",
        "display(sp.S(f1, locals=env.local_dict))\n",
        "print(\"\")\n",
        "display(sp.S(f2, locals=env.local_dict))\n",
        "print(\"\")\n",
        "display(sp.S(f3, locals=env.local_dict))\n",
        "print(\"\")\n",
        "display(sp.S(f4, locals=env.local_dict))\n",
        "print(\"\")\n",
        "display(sp.S(f5, locals=env.local_dict))\n",
        "print(\"\")\n",
        "display(sp.S(f6, locals=env.local_dict))\n",
        "print(\"\")\n",
        "display(sp.S(f7, locals=env.local_dict))\n",
        "print(\"\")\n",
        "display(sp.S(f8, locals=env.local_dict))\n",
        "print(\"\")"
      ],
      "execution_count": null,
      "outputs": [
        {
          "output_type": "display_data",
          "data": {
            "application/vnd.google.colaboratory.intrinsic+json": {
              "type": "string"
            },
            "text/plain": [
              "'Ecuaciones diferenciales de primer orden que he testeado:'"
            ]
          },
          "metadata": {
            "tags": []
          }
        },
        {
          "output_type": "display_data",
          "data": {
            "text/latex": "$\\displaystyle f{\\left(x \\right)} \\sin{\\left(x \\right)} + \\cos{\\left(x \\right)} \\frac{d}{d x} f{\\left(x \\right)} - 1$",
            "text/plain": [
              "f(x)*sin(x) + cos(x)*Derivative(f(x), x) - 1"
            ]
          },
          "metadata": {
            "tags": []
          }
        },
        {
          "output_type": "stream",
          "text": [
            "\n"
          ],
          "name": "stdout"
        },
        {
          "output_type": "display_data",
          "data": {
            "text/latex": "$\\displaystyle - 2 \\left(\\cos{\\left(x \\right)} - 1\\right) e^{2 \\sin{\\left(x \\right)}} - 2 f{\\left(x \\right)} + \\frac{d}{d x} f{\\left(x \\right)}$",
            "text/plain": [
              "-2*(cos(x) - 1)*exp(2*sin(x)) - 2*f(x) + Derivative(f(x), x)"
            ]
          },
          "metadata": {
            "tags": []
          }
        },
        {
          "output_type": "stream",
          "text": [
            "\n"
          ],
          "name": "stdout"
        },
        {
          "output_type": "display_data",
          "data": {
            "text/latex": "$\\displaystyle x^{2} \\frac{d}{d x} f{\\left(x \\right)} + x f{\\left(x \\right)} + \\sqrt{f{\\left(x \\right)}}$",
            "text/plain": [
              "x**2*Derivative(f(x), x) + x*f(x) + sqrt(f(x))"
            ]
          },
          "metadata": {
            "tags": []
          }
        },
        {
          "output_type": "stream",
          "text": [
            "\n"
          ],
          "name": "stdout"
        },
        {
          "output_type": "display_data",
          "data": {
            "text/latex": "$\\displaystyle 2 f{\\left(x \\right)} \\frac{d}{d x} f{\\left(x \\right)} - \\frac{2 f{\\left(x \\right)}}{\\cos^{2}{\\left(x \\right)}} + \\frac{2 f^{2}{\\left(x \\right)}}{x}$",
            "text/plain": [
              "2*f(x)*Derivative(f(x), x) - 2*f(x)/cos(x)**2 + 2*f(x)**2/x"
            ]
          },
          "metadata": {
            "tags": []
          }
        },
        {
          "output_type": "stream",
          "text": [
            "\n"
          ],
          "name": "stdout"
        },
        {
          "output_type": "display_data",
          "data": {
            "text/latex": "$\\displaystyle x^{2} \\left(f^{2}{\\left(x \\right)} + \\frac{d}{d x} f{\\left(x \\right)}\\right) + x f{\\left(x \\right)} - 1$",
            "text/plain": [
              "x**2*(f(x)**2 + Derivative(f(x), x)) + x*f(x) - 1"
            ]
          },
          "metadata": {
            "tags": []
          }
        },
        {
          "output_type": "stream",
          "text": [
            "\n"
          ],
          "name": "stdout"
        },
        {
          "output_type": "display_data",
          "data": {
            "text/latex": "$\\displaystyle - \\frac{2 f{\\left(x \\right)}}{\\cos^{2}{\\left(x \\right)}} + \\frac{d}{d x} f{\\left(x \\right)} + \\frac{2 f{\\left(x \\right)}}{x}$",
            "text/plain": [
              "-2*f(x)/cos(x)**2 + Derivative(f(x), x) + 2*f(x)/x"
            ]
          },
          "metadata": {
            "tags": []
          }
        },
        {
          "output_type": "stream",
          "text": [
            "\n"
          ],
          "name": "stdout"
        },
        {
          "output_type": "display_data",
          "data": {
            "text/latex": "$\\displaystyle 2 x + \\left(x - 2 f{\\left(x \\right)}\\right) \\frac{d}{d x} f{\\left(x \\right)} + f{\\left(x \\right)}$",
            "text/plain": [
              "2*x + (x - 2*f(x))*Derivative(f(x), x) + f(x)"
            ]
          },
          "metadata": {
            "tags": []
          }
        },
        {
          "output_type": "stream",
          "text": [
            "\n"
          ],
          "name": "stdout"
        },
        {
          "output_type": "display_data",
          "data": {
            "text/latex": "$\\displaystyle - x^{2} f{\\left(x \\right)} + x \\frac{d}{d x} f{\\left(x \\right)} - e^{\\frac{x^{2}}{2}}$",
            "text/plain": [
              "-x**2*f(x) + x*Derivative(f(x), x) - exp(x**2/2)"
            ]
          },
          "metadata": {
            "tags": []
          }
        },
        {
          "output_type": "stream",
          "text": [
            "\n"
          ],
          "name": "stdout"
        }
      ]
    },
    {
      "cell_type": "code",
      "metadata": {
        "id": "p1d84NKGVylX",
        "colab": {
          "base_uri": "https://localhost:8080/"
        },
        "outputId": "60929e97-aeef-4056-d773-b7cf695df7c5"
      },
      "source": [
        "#F_prefix = env.sympy_to_prefix(F)     # cambiamos la notación a sequencias para el modelo seq2seq\n",
        "f_prefix = env.sympy_to_prefix(f) \n",
        "s = f_prefix\n",
        "#print(f\"F prefix: {F_prefix}\")\n",
        "print(f\"f prefix: {f_prefix}\")"
      ],
      "execution_count": null,
      "outputs": [
        {
          "output_type": "stream",
          "text": [
            "f prefix: ['add', 'mul', 'INT-', '6', 'pow', 'x', 'INT+', '3', 'add', 'mul', 'INT-', '3', 'mul', 'pow', 'x', 'INT-', '1', 'f', 'x', 'derivative', 'f', 'x', 'x']\n"
          ],
          "name": "stdout"
        }
      ]
    },
    {
      "cell_type": "code",
      "metadata": {
        "id": "6vzzM3OgNZ_z"
      },
      "source": [
        "#ODE_prefix = ['add','derivative', 'f', 'x', 'x','mul','x','f','x']\n",
        "#x1_prefix = env.clean_prefix(ODE_prefix)\n",
        "#x1_prefix = env.clean_prefix(['sub', 'derivative', 'f', 'x', 'x'] + f_prefix)\n",
        "x1_prefix =env.clean_prefix(f_prefix)  # simplificamos al máximo la EDO\n",
        "x1 = torch.LongTensor(\n",
        "    [env.eos_index] +\n",
        "    [env.word2id[w] for w in x1_prefix] +      \n",
        "    [env.eos_index]\n",
        ").view(-1, 1)\n",
        "len1 = torch.LongTensor([len(x1)])\n",
        "x1, len1 = to_cuda(x1, len1)\n",
        "\n",
        "with torch.no_grad():\n",
        "    encoded = encoder('fwd', x=x1, lengths=len1, causal=False).transpose(0, 1) "
      ],
      "execution_count": null,
      "outputs": []
    },
    {
      "cell_type": "code",
      "metadata": {
        "id": "JYdZ5iXwVNOx"
      },
      "source": [
        "\n",
        "#para comprobar lo que he escrito en el prefix\n",
        "#ODE_infix = env.prefix_to_infix(ODE_prefix)\n",
        "#ODE_infix = env.prefix_to_infix(['sub', 'derivative', 'f', 'x', 'x'] + f_prefix)\n",
        "#ODE_sympy = env.infix_to_sympy(ODE_infix)\n",
        "#print(ODE_infix)\n",
        "#display(ODE_sympy)"
      ],
      "execution_count": null,
      "outputs": []
    },
    {
      "cell_type": "code",
      "metadata": {
        "id": "EQIF66H-PMcM"
      },
      "source": [
        "beam_size = 5  #numero de hypotesis que queremos\n",
        "with torch.no_grad():\n",
        "    _, _, beam = decoder.generate_beam(encoded, len1, beam_size=beam_size, length_penalty=1.0, early_stopping=1, max_len=200)\n",
        "    assert len(beam) == 1\n",
        "hypotheses = beam[0].hyp\n",
        "assert len(hypotheses) == beam_size"
      ],
      "execution_count": null,
      "outputs": []
    },
    {
      "cell_type": "code",
      "metadata": {
        "id": "pAo5gLorT3d7",
        "colab": {
          "base_uri": "https://localhost:8080/",
          "height": 923
        },
        "outputId": "fae3143f-d186-427f-ce1f-fd411fcfd476"
      },
      "source": [
        "print(f\"Input function f: \")\n",
        "display(f)\n",
        "#print(f\"Reference function F: {F}\")\n",
        "print(\"\")\n",
        "\n",
        "hyps=[]\n",
        "scores=[]\n",
        "results=[]\n",
        "for score, sent in sorted(hypotheses, key=lambda x: x[0], reverse=True):\n",
        "\n",
        "    scores.append(score)\n",
        "    \n",
        "    # parse decoded hypothesis\n",
        "    ids = sent[1:].tolist()                  # decoded token IDs\n",
        "    tok = [env.id2word[wid] for wid in ids]  # convert to prefix\n",
        "    \n",
        "\n",
        "    try:\n",
        "        hyp = env.prefix_to_infix(tok)\n",
        "               # convert to infix\n",
        "        hyp = env.infix_to_sympy(hyp) \n",
        "        #print(checkodesol(f, hyp))\n",
        "        simp= checkodesol(f, hyp)[1]\n",
        "        \n",
        "\n",
        "        \n",
        "        res = \"CORRECT\" if simp == 0 else \"INCORRECT\"  \n",
        "        for i in tok :\n",
        "         if res == 'INCORRECT' and (i =='sqrt' or i =='ln') :\n",
        "            res = res + '\\n WARNNING : el modelo tiene problemas con la simplifación de algunas funciones (raízes, logaritmos, etc..) puede que el resultado sea correcto y que la solución no esté simplificada'\n",
        "\n",
        "       # si la sustitució de hyp en f dona zero, diguem que el resultat és correcte\n",
        "\n",
        "        \n",
        "    except:\n",
        "        hyp = env.prefix_to_infix(tok)       # convert to infix\n",
        "        hyp = env.infix_to_sympy(hyp)\n",
        "\n",
        "        res = \"INVALID PREFIX EXPRESSION\" \n",
        "    results.append(res)\n",
        "    hyps.append(hyp)\n",
        "    \n",
        "    # print result\n",
        "    display(hyp)\n",
        "    print(\"Score: %.5f\" % score )\n",
        "    print(\"%s RESULT\" % res)\n",
        "    print(' Evaluamos la hipotesis generada en la función input y el resultado es : ')\n",
        "    display(simp)\n",
        "    print('\\n\\n Next hypothesis:')"
      ],
      "execution_count": null,
      "outputs": [
        {
          "output_type": "stream",
          "text": [
            "Input function f: \n"
          ],
          "name": "stdout"
        },
        {
          "output_type": "display_data",
          "data": {
            "text/latex": "$\\displaystyle - 6 x^{3} + \\frac{d}{d x} f{\\left(x \\right)} - \\frac{3 f{\\left(x \\right)}}{x}$",
            "text/plain": [
              "-6*x**3 + Derivative(f(x), x) - 3*f(x)/x"
            ]
          },
          "metadata": {
            "tags": []
          }
        },
        {
          "output_type": "stream",
          "text": [
            "\n"
          ],
          "name": "stdout"
        },
        {
          "output_type": "display_data",
          "data": {
            "text/latex": "$\\displaystyle 2 x^{3} \\log{\\left(x^{2} e^{a_{8} + 3 x} \\right)}$",
            "text/plain": [
              "2*x**3*log(x**2*exp(a8 + 3*x))"
            ]
          },
          "metadata": {
            "tags": []
          }
        },
        {
          "output_type": "stream",
          "text": [
            "Score: -0.16884\n",
            "INCORRECT\n",
            " WARNNING : el modelo tiene problemas con la simplifación de algunas funciones (raízes, logaritmos, etc..) puede que el resultado sea correcto y que la solución no esté simplificada RESULT\n",
            " Evaluamos la hipotesis generada en la función input y el resultado es : \n"
          ],
          "name": "stdout"
        },
        {
          "output_type": "display_data",
          "data": {
            "text/latex": "$\\displaystyle 4 x^{3}$",
            "text/plain": [
              "4*x**3"
            ]
          },
          "metadata": {
            "tags": []
          }
        },
        {
          "output_type": "stream",
          "text": [
            "\n",
            "\n",
            " Next hypothesis:\n"
          ],
          "name": "stdout"
        },
        {
          "output_type": "display_data",
          "data": {
            "text/latex": "$\\displaystyle 2 x^{3} \\log{\\left(x^{2} e^{a_{8} + x} \\right)}$",
            "text/plain": [
              "2*x**3*log(x**2*exp(a8 + x))"
            ]
          },
          "metadata": {
            "tags": []
          }
        },
        {
          "output_type": "stream",
          "text": [
            "Score: -0.23058\n",
            "INCORRECT\n",
            " WARNNING : el modelo tiene problemas con la simplifación de algunas funciones (raízes, logaritmos, etc..) puede que el resultado sea correcto y que la solución no esté simplificada RESULT\n",
            " Evaluamos la hipotesis generada en la función input y el resultado es : \n"
          ],
          "name": "stdout"
        },
        {
          "output_type": "display_data",
          "data": {
            "text/latex": "$\\displaystyle x^{2} \\left(x - 1\\right)$",
            "text/plain": [
              "x**2*(x - 1)"
            ]
          },
          "metadata": {
            "tags": []
          }
        },
        {
          "output_type": "stream",
          "text": [
            "\n",
            "\n",
            " Next hypothesis:\n"
          ],
          "name": "stdout"
        },
        {
          "output_type": "display_data",
          "data": {
            "text/latex": "$\\displaystyle 2 x^{3} \\log{\\left(x^{2} e^{a_{8} - x} \\right)}$",
            "text/plain": [
              "2*x**3*log(x**2*exp(a8 - x))"
            ]
          },
          "metadata": {
            "tags": []
          }
        },
        {
          "output_type": "stream",
          "text": [
            "Score: -0.26224\n",
            "INCORRECT\n",
            " WARNNING : el modelo tiene problemas con la simplifación de algunas funciones (raízes, logaritmos, etc..) puede que el resultado sea correcto y que la solución no esté simplificada RESULT\n",
            " Evaluamos la hipotesis generada en la función input y el resultado es : \n"
          ],
          "name": "stdout"
        },
        {
          "output_type": "display_data",
          "data": {
            "text/latex": "$\\displaystyle x^{2} \\left(2 x - 1\\right)$",
            "text/plain": [
              "x**2*(2*x - 1)"
            ]
          },
          "metadata": {
            "tags": []
          }
        },
        {
          "output_type": "stream",
          "text": [
            "\n",
            "\n",
            " Next hypothesis:\n"
          ],
          "name": "stdout"
        },
        {
          "output_type": "display_data",
          "data": {
            "text/latex": "$\\displaystyle 2 x^{2} \\left(a_{8} x + 3 x^{2}\\right)$",
            "text/plain": [
              "2*x**2*(a8*x + 3*x**2)"
            ]
          },
          "metadata": {
            "tags": []
          }
        },
        {
          "output_type": "stream",
          "text": [
            "Score: -0.27035\n",
            "CORRECT RESULT\n",
            " Evaluamos la hipotesis generada en la función input y el resultado es : \n"
          ],
          "name": "stdout"
        },
        {
          "output_type": "display_data",
          "data": {
            "text/plain": [
              "0"
            ]
          },
          "metadata": {
            "tags": []
          }
        },
        {
          "output_type": "stream",
          "text": [
            "\n",
            "\n",
            " Next hypothesis:\n"
          ],
          "name": "stdout"
        },
        {
          "output_type": "display_data",
          "data": {
            "text/latex": "$\\displaystyle 2 x^{2} \\left(3 x \\left(a_{8} + x\\right) + 2 x\\right)$",
            "text/plain": [
              "2*x**2*(3*x*(a8 + x) + 2*x)"
            ]
          },
          "metadata": {
            "tags": []
          }
        },
        {
          "output_type": "stream",
          "text": [
            "Score: -0.27658\n",
            "CORRECT RESULT\n",
            " Evaluamos la hipotesis generada en la función input y el resultado es : \n"
          ],
          "name": "stdout"
        },
        {
          "output_type": "display_data",
          "data": {
            "text/plain": [
              "0"
            ]
          },
          "metadata": {
            "tags": []
          }
        },
        {
          "output_type": "stream",
          "text": [
            "\n",
            "\n",
            " Next hypothesis:\n"
          ],
          "name": "stdout"
        }
      ]
    },
    {
      "cell_type": "code",
      "metadata": {
        "id": "dAhLi7T-UPsI",
        "colab": {
          "base_uri": "https://localhost:8080/",
          "height": 206
        },
        "outputId": "59609aca-2827-4be7-e185-f08822bf3f75"
      },
      "source": [
        "import pandas as pd\n",
        "df=pd.DataFrame([results,scores,hyps]).T\n",
        "df.columns=['test_result','score','function']\n",
        "df"
      ],
      "execution_count": null,
      "outputs": [
        {
          "output_type": "execute_result",
          "data": {
            "text/html": [
              "<div>\n",
              "<style scoped>\n",
              "    .dataframe tbody tr th:only-of-type {\n",
              "        vertical-align: middle;\n",
              "    }\n",
              "\n",
              "    .dataframe tbody tr th {\n",
              "        vertical-align: top;\n",
              "    }\n",
              "\n",
              "    .dataframe thead th {\n",
              "        text-align: right;\n",
              "    }\n",
              "</style>\n",
              "<table border=\"1\" class=\"dataframe\">\n",
              "  <thead>\n",
              "    <tr style=\"text-align: right;\">\n",
              "      <th></th>\n",
              "      <th>test_result</th>\n",
              "      <th>score</th>\n",
              "      <th>function</th>\n",
              "    </tr>\n",
              "  </thead>\n",
              "  <tbody>\n",
              "    <tr>\n",
              "      <th>0</th>\n",
              "      <td>INCORRECT\\n WARNNING : el modelo tiene problem...</td>\n",
              "      <td>-0.168843</td>\n",
              "      <td>2*x**3*log(x**2*exp(a8 + 3*x))</td>\n",
              "    </tr>\n",
              "    <tr>\n",
              "      <th>1</th>\n",
              "      <td>INCORRECT\\n WARNNING : el modelo tiene problem...</td>\n",
              "      <td>-0.23058</td>\n",
              "      <td>2*x**3*log(x**2*exp(a8 + x))</td>\n",
              "    </tr>\n",
              "    <tr>\n",
              "      <th>2</th>\n",
              "      <td>INCORRECT\\n WARNNING : el modelo tiene problem...</td>\n",
              "      <td>-0.262238</td>\n",
              "      <td>2*x**3*log(x**2*exp(a8 - x))</td>\n",
              "    </tr>\n",
              "    <tr>\n",
              "      <th>3</th>\n",
              "      <td>CORRECT</td>\n",
              "      <td>-0.270346</td>\n",
              "      <td>2*x**2*(a8*x + 3*x**2)</td>\n",
              "    </tr>\n",
              "    <tr>\n",
              "      <th>4</th>\n",
              "      <td>CORRECT</td>\n",
              "      <td>-0.27658</td>\n",
              "      <td>2*x**2*(3*x*(a8 + x) + 2*x)</td>\n",
              "    </tr>\n",
              "  </tbody>\n",
              "</table>\n",
              "</div>"
            ],
            "text/plain": [
              "                                         test_result  ...                        function\n",
              "0  INCORRECT\\n WARNNING : el modelo tiene problem...  ...  2*x**3*log(x**2*exp(a8 + 3*x))\n",
              "1  INCORRECT\\n WARNNING : el modelo tiene problem...  ...    2*x**3*log(x**2*exp(a8 + x))\n",
              "2  INCORRECT\\n WARNNING : el modelo tiene problem...  ...    2*x**3*log(x**2*exp(a8 - x))\n",
              "3                                            CORRECT  ...          2*x**2*(a8*x + 3*x**2)\n",
              "4                                            CORRECT  ...     2*x**2*(3*x*(a8 + x) + 2*x)\n",
              "\n",
              "[5 rows x 3 columns]"
            ]
          },
          "metadata": {
            "tags": []
          },
          "execution_count": 29
        }
      ]
    },
    {
      "cell_type": "code",
      "metadata": {
        "id": "dHKG2gDQUltt",
        "colab": {
          "base_uri": "https://localhost:8080/",
          "height": 38
        },
        "outputId": "1dc0d96d-f0a7-4af3-c8bc-2939663925d3"
      },
      "source": [
        "xx= df.iloc[0,2]\n",
        "xx\n"
      ],
      "execution_count": null,
      "outputs": [
        {
          "output_type": "execute_result",
          "data": {
            "text/latex": "$\\displaystyle 2 x^{3} \\log{\\left(x^{2} e^{a_{8} + 3 x} \\right)}$",
            "text/plain": [
              "2*x**3*log(x**2*exp(a8 + 3*x))"
            ]
          },
          "metadata": {
            "tags": []
          },
          "execution_count": 25
        }
      ]
    },
    {
      "cell_type": "code",
      "metadata": {
        "id": "dYRKHMqcUop6",
        "colab": {
          "base_uri": "https://localhost:8080/",
          "height": 106
        },
        "outputId": "a3d593c6-3f8e-4955-bccb-e394bd5cbd7f"
      },
      "source": [
        "######  #####\n",
        "\n",
        "\n",
        "# a partir d'ací no es codi, son proves per entendre coses \n",
        "\n",
        "\n",
        "\n",
        "prova = env.prefix_to_infix(['add', 'x', 'add', 'mul', 'a8', 'x', 'mul', 'INT-', '1', 'mul', 'x', 'ln', 'mul', 'INT+', '2', 'x'])\n",
        "\n",
        "\n",
        "ODE_prova = env.infix_to_sympy(prova)\n",
        "print(prova)\n",
        "display(ODE_prova)\n",
        "\n",
        "mmm= env.prefix_to_infix(['mul', 'x', 'add', 'a8', 'mul', 'INT-', '1', 'ln', 'mul', 'div', 'INT+', '1', 'INT+', '2', 'x'])\n",
        "\n",
        "rr = env.infix_to_sympy(mmm)\n",
        "print(mmm)\n",
        "display(rr)\n",
        "\n"
      ],
      "execution_count": null,
      "outputs": [
        {
          "output_type": "stream",
          "text": [
            "((x)+(((a8)*(x))+((-1)*((x)*(ln((2)*(x)))))))\n"
          ],
          "name": "stdout"
        },
        {
          "output_type": "display_data",
          "data": {
            "text/latex": "$\\displaystyle a_{8} x - x \\log{\\left(2 x \\right)} + x$",
            "text/plain": [
              "a8*x - x*log(2*x) + x"
            ]
          },
          "metadata": {
            "tags": []
          }
        },
        {
          "output_type": "stream",
          "text": [
            "((x)*((a8)+((-1)*(ln(((1)/(2))*(x))))))\n"
          ],
          "name": "stdout"
        },
        {
          "output_type": "display_data",
          "data": {
            "text/latex": "$\\displaystyle x \\left(a_{8} - \\log{\\left(\\frac{x}{2} \\right)}\\right)$",
            "text/plain": [
              "x*(a8 - log(x/2))"
            ]
          },
          "metadata": {
            "tags": []
          }
        }
      ]
    },
    {
      "cell_type": "code",
      "metadata": {
        "id": "2jdmaUhijPAS"
      },
      "source": [
        "x1_prefix\n",
        "\n",
        "# hemos simplificado la ecuacion  para introducirla a el modelo. la ecuacion se ha simplificado a '"
      ],
      "execution_count": null,
      "outputs": []
    },
    {
      "cell_type": "code",
      "metadata": {
        "id": "p8sHmMiVmo3K"
      },
      "source": [
        "### NOTASSS##\n",
        "# he arribat a conseguir que el model prediga les solucions correctes\n",
        "# ara falta crear un algoritme per a verificar que les solucions son correctes  ---> ja fetv\n",
        "# la idea es sustituir la solcuió en l'EDO  vore q , efectivament, dona zero   --> ja fet\n",
        "\n",
        "# Per a expressions senzilles dona bons resultats, però quan es compliquen les expressions el procés de comprovació falla i necessita molt de temps per a compilar"
      ],
      "execution_count": null,
      "outputs": []
    },
    {
      "cell_type": "code",
      "metadata": {
        "id": "GwfgbOPim0gm"
      },
      "source": [
        "from sympy.solvers.ode.ode import ode_sol_simplicity\n",
        "#f1.subs(f(x),hyp)\n",
        "#checkodesol(f, xx)\n",
        "#ode_sol_simplicity(xx,f_prefix)\n"
      ],
      "execution_count": null,
      "outputs": []
    },
    {
      "cell_type": "code",
      "metadata": {
        "id": "fo3kBh07fRcn"
      },
      "source": [
        "## Per a fer \n",
        "\n",
        "#warning de que no saca soluciones para raizes\n",
        "# documentar todos los errores"
      ],
      "execution_count": null,
      "outputs": []
    },
    {
      "cell_type": "code",
      "metadata": {
        "id": "SYUBgrUJfltJ"
      },
      "source": [
        ""
      ],
      "execution_count": null,
      "outputs": []
    },
    {
      "cell_type": "code",
      "metadata": {
        "id": "v437r1-zfm8S"
      },
      "source": [
        ""
      ],
      "execution_count": null,
      "outputs": []
    }
  ]
}